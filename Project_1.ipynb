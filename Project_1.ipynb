{
 "cells": [
  {
   "cell_type": "code",
   "execution_count": 7,
   "id": "6017fee0-b121-4553-9c15-cfa2fde0b195",
   "metadata": {},
   "outputs": [],
   "source": [
    "import panel as pn\n",
    "pn.extension('plotly')\n",
    "import plotly.express as px\n",
    "import pandas as pd\n",
    "import hvplot.pandas\n",
    "import matplotlib.pyplot as plt\n",
    "import numpy as np\n",
    "import os\n",
    "from pathlib import Path\n",
    "import alpaca_trade_api as tradeapi\n",
    "from dotenv import load_dotenv\n",
    "import requests\n",
    "from datetime import datetime as dt\n",
    "import warnings\n",
    "from datetime import date\n",
    "warnings.filterwarnings('ignore')"
   ]
  },
  {
   "cell_type": "code",
   "execution_count": 8,
   "id": "ec3292a8-c218-46d8-af26-e0c687067ab1",
   "metadata": {},
   "outputs": [],
   "source": [
    "# loading Crypto price from api \n",
    "prices = pd.DataFrame()\n",
    "prices['index'] = 1\n",
    "asset = ['BTC','ETH','LTC','XRP']\n",
    "prices_df2 = pd.DataFrame()\n",
    "\n",
    "for i in range (0,4):\n",
    "    \n",
    "    url = f\"https://www.alphavantage.co/query?function=DIGITAL_CURRENCY_DAILY&symbol={asset[i]}&market=USD&apikey=G0XWLJPTUJV8PAE5=json&outputsize=full\"\n",
    "    r = requests.get(url)\n",
    "    r = r.json()\n",
    "    prices_df = pd.DataFrame(r['Time Series (Digital Currency Daily)'])#getting daily btc price \n",
    "    prices_df = pd.DataFrame(prices_df.T[['4b. close (USD)']])# close price for btc\n",
    "    #name = 'BTC'\n",
    "    #prices_df.rename(columns={'4b. close (USD)': f\"Close Price {asset[i]} \"}, inplace = True)\n",
    "    prices_df.reset_index(inplace = True)\n",
    "    prices_df2[asset[i]] = list(prices_df['4b. close (USD)'])\n",
    "    "
   ]
  },
  {
   "cell_type": "code",
   "execution_count": 9,
   "id": "24a3dd48-4e9a-48e1-ade0-f7c905868443",
   "metadata": {},
   "outputs": [],
   "source": [
    "prices_df2['Date']=prices_df['index']\n",
    "crypto_df = prices_df2.set_index(['Date','BTC','ETH','LTC','XRP'])\n",
    "crypto_df.reset_index(inplace = True)"
   ]
  },
  {
   "cell_type": "code",
   "execution_count": 10,
   "id": "4d31d514-df42-41ba-a123-e433f6cead2d",
   "metadata": {},
   "outputs": [],
   "source": [
    "crypto_df.to_csv('crypto.csv')"
   ]
  },
  {
   "cell_type": "code",
   "execution_count": 5,
   "id": "27d2d53e-ed16-4f1f-ba0c-048da0f9c5e4",
   "metadata": {},
   "outputs": [
    {
     "data": {
      "text/plain": [
       "True"
      ]
     },
     "execution_count": 5,
     "metadata": {},
     "output_type": "execute_result"
    }
   ],
   "source": [
    "load_dotenv()"
   ]
  },
  {
   "cell_type": "code",
   "execution_count": 11,
   "id": "65692905-3334-46f9-95aa-af664f3368cc",
   "metadata": {},
   "outputs": [],
   "source": [
    "alpaca_api_key = os.getenv(\"ALPACA_API_KEY\")\n",
    "alpaca_secret_key = os.getenv(\"ALPACA_SECRET_KEY\")\n",
    "api = tradeapi.REST(\n",
    "    alpaca_api_key,\n",
    "    alpaca_secret_key,\n",
    "    api_version = \"v2\")"
   ]
  },
  {
   "cell_type": "code",
   "execution_count": 12,
   "id": "a38dafcf-9892-46bd-8241-8811d464a1a5",
   "metadata": {},
   "outputs": [],
   "source": [
    "timeframe = \"1D\"\n",
    "today = date.today()"
   ]
  },
  {
   "cell_type": "code",
   "execution_count": 13,
   "id": "8b0a445e-261f-4630-9300-a1200ecd0303",
   "metadata": {},
   "outputs": [
    {
     "data": {
      "text/html": [
       "<div>\n",
       "<style scoped>\n",
       "    .dataframe tbody tr th:only-of-type {\n",
       "        vertical-align: middle;\n",
       "    }\n",
       "\n",
       "    .dataframe tbody tr th {\n",
       "        vertical-align: top;\n",
       "    }\n",
       "\n",
       "    .dataframe thead tr th {\n",
       "        text-align: left;\n",
       "    }\n",
       "</style>\n",
       "<table border=\"1\" class=\"dataframe\">\n",
       "  <thead>\n",
       "    <tr>\n",
       "      <th></th>\n",
       "      <th colspan=\"5\" halign=\"left\">SPY</th>\n",
       "    </tr>\n",
       "    <tr>\n",
       "      <th></th>\n",
       "      <th>open</th>\n",
       "      <th>high</th>\n",
       "      <th>low</th>\n",
       "      <th>close</th>\n",
       "      <th>volume</th>\n",
       "    </tr>\n",
       "  </thead>\n",
       "  <tbody>\n",
       "    <tr>\n",
       "      <th>2018-09-18 00:00:00-04:00</th>\n",
       "      <td>289.57</td>\n",
       "      <td>291.58</td>\n",
       "      <td>289.550</td>\n",
       "      <td>290.90</td>\n",
       "      <td>38573521</td>\n",
       "    </tr>\n",
       "    <tr>\n",
       "      <th>2018-09-19 00:00:00-04:00</th>\n",
       "      <td>290.97</td>\n",
       "      <td>291.69</td>\n",
       "      <td>290.825</td>\n",
       "      <td>291.25</td>\n",
       "      <td>34596543</td>\n",
       "    </tr>\n",
       "    <tr>\n",
       "      <th>2018-09-20 00:00:00-04:00</th>\n",
       "      <td>292.64</td>\n",
       "      <td>293.94</td>\n",
       "      <td>292.510</td>\n",
       "      <td>293.55</td>\n",
       "      <td>54097569</td>\n",
       "    </tr>\n",
       "    <tr>\n",
       "      <th>2018-09-21 00:00:00-04:00</th>\n",
       "      <td>293.09</td>\n",
       "      <td>293.22</td>\n",
       "      <td>291.810</td>\n",
       "      <td>292.01</td>\n",
       "      <td>45805544</td>\n",
       "    </tr>\n",
       "    <tr>\n",
       "      <th>2018-09-24 00:00:00-04:00</th>\n",
       "      <td>291.34</td>\n",
       "      <td>291.50</td>\n",
       "      <td>290.370</td>\n",
       "      <td>291.07</td>\n",
       "      <td>37585070</td>\n",
       "    </tr>\n",
       "  </tbody>\n",
       "</table>\n",
       "</div>"
      ],
      "text/plain": [
       "                              SPY                                   \n",
       "                             open    high      low   close    volume\n",
       "2018-09-18 00:00:00-04:00  289.57  291.58  289.550  290.90  38573521\n",
       "2018-09-19 00:00:00-04:00  290.97  291.69  290.825  291.25  34596543\n",
       "2018-09-20 00:00:00-04:00  292.64  293.94  292.510  293.55  54097569\n",
       "2018-09-21 00:00:00-04:00  293.09  293.22  291.810  292.01  45805544\n",
       "2018-09-24 00:00:00-04:00  291.34  291.50  290.370  291.07  37585070"
      ]
     },
     "execution_count": 13,
     "metadata": {},
     "output_type": "execute_result"
    }
   ],
   "source": [
    "start_date = pd.Timestamp(\"2018-09-18\",tz=\"America/New_york\").isoformat()\n",
    "end_date = pd.Timestamp(today,tz=\"America/New_york\").isoformat()\n",
    "tickers = [\"SPY\"]\n",
    "timeframe = \"1D\"\n",
    "df_ticker = api.get_barset(\n",
    "            tickers,\n",
    "            timeframe,\n",
    "            start = start_date,\n",
    "            end = end_date,\n",
    "            limit = 1000,\n",
    ").df\n",
    "df_ticker.head()"
   ]
  },
  {
   "cell_type": "code",
   "execution_count": 14,
   "id": "3b3de420-f081-4a2f-afb8-d5ee1ce15264",
   "metadata": {},
   "outputs": [
    {
     "data": {
      "text/html": [
       "<div>\n",
       "<style scoped>\n",
       "    .dataframe tbody tr th:only-of-type {\n",
       "        vertical-align: middle;\n",
       "    }\n",
       "\n",
       "    .dataframe tbody tr th {\n",
       "        vertical-align: top;\n",
       "    }\n",
       "\n",
       "    .dataframe thead th {\n",
       "        text-align: right;\n",
       "    }\n",
       "</style>\n",
       "<table border=\"1\" class=\"dataframe\">\n",
       "  <thead>\n",
       "    <tr style=\"text-align: right;\">\n",
       "      <th></th>\n",
       "      <th>SPY</th>\n",
       "    </tr>\n",
       "  </thead>\n",
       "  <tbody>\n",
       "    <tr>\n",
       "      <th>2018-09-18</th>\n",
       "      <td>290.90</td>\n",
       "    </tr>\n",
       "    <tr>\n",
       "      <th>2018-09-19</th>\n",
       "      <td>291.25</td>\n",
       "    </tr>\n",
       "    <tr>\n",
       "      <th>2018-09-20</th>\n",
       "      <td>293.55</td>\n",
       "    </tr>\n",
       "    <tr>\n",
       "      <th>2018-09-21</th>\n",
       "      <td>292.01</td>\n",
       "    </tr>\n",
       "    <tr>\n",
       "      <th>2018-09-24</th>\n",
       "      <td>291.07</td>\n",
       "    </tr>\n",
       "    <tr>\n",
       "      <th>...</th>\n",
       "      <td>...</td>\n",
       "    </tr>\n",
       "    <tr>\n",
       "      <th>2021-06-09</th>\n",
       "      <td>421.62</td>\n",
       "    </tr>\n",
       "    <tr>\n",
       "      <th>2021-06-10</th>\n",
       "      <td>423.58</td>\n",
       "    </tr>\n",
       "    <tr>\n",
       "      <th>2021-06-11</th>\n",
       "      <td>424.31</td>\n",
       "    </tr>\n",
       "    <tr>\n",
       "      <th>2021-06-14</th>\n",
       "      <td>425.29</td>\n",
       "    </tr>\n",
       "    <tr>\n",
       "      <th>2021-06-15</th>\n",
       "      <td>424.50</td>\n",
       "    </tr>\n",
       "  </tbody>\n",
       "</table>\n",
       "<p>690 rows × 1 columns</p>\n",
       "</div>"
      ],
      "text/plain": [
       "               SPY\n",
       "2018-09-18  290.90\n",
       "2018-09-19  291.25\n",
       "2018-09-20  293.55\n",
       "2018-09-21  292.01\n",
       "2018-09-24  291.07\n",
       "...            ...\n",
       "2021-06-09  421.62\n",
       "2021-06-10  423.58\n",
       "2021-06-11  424.31\n",
       "2021-06-14  425.29\n",
       "2021-06-15  424.50\n",
       "\n",
       "[690 rows x 1 columns]"
      ]
     },
     "execution_count": 14,
     "metadata": {},
     "output_type": "execute_result"
    }
   ],
   "source": [
    "# get level way\n",
    "new_df = df_ticker[(\"SPY\",\"close\")].to_frame()\n",
    "new_df.index = new_df.index.strftime(\"%Y-%m-%d\")\n",
    "new_df.columns = new_df.columns.get_level_values(0)\n",
    "new_df"
   ]
  },
  {
   "cell_type": "code",
   "execution_count": 15,
   "id": "a733d3c3-efd6-4edc-b975-fa82f9d778df",
   "metadata": {},
   "outputs": [],
   "source": [
    "#drop index\n",
    "new_df = df_ticker[(\"SPY\",\"close\")].to_frame()# if you grab one column it count as series but change to frame\n",
    "new_df.index = new_df.index.strftime(\"%Y-%m-%d\")# change to Date\n",
    "new_df.columns = new_df.columns.droplevel()# with this column drop one level \n",
    "new_df.reset_index(inplace=True)#reset the index\n",
    "new_df.columns = ['Date', 'SPY']# change the colume name\n",
    "new_df.to_csv('spy.csv')\n",
    "#df = new_df['close']\n",
    "#df.head()  = "
   ]
  },
  {
   "cell_type": "code",
   "execution_count": 17,
   "id": "1c56faf5-0bc1-41ba-873a-25cdb5ee85da",
   "metadata": {},
   "outputs": [],
   "source": [
    "Final_df = pd.merge(crypto_df, new_df, how='inner', on = 'Date')\n",
    "Final_df.to_csv('Data.csv')"
   ]
  },
  {
   "cell_type": "code",
   "execution_count": null,
   "id": "56b79e07-1752-4098-b19d-6fe51de3a489",
   "metadata": {},
   "outputs": [],
   "source": []
  }
 ],
 "metadata": {
  "kernelspec": {
   "display_name": "Python 3",
   "language": "python",
   "name": "python3"
  },
  "language_info": {
   "codemirror_mode": {
    "name": "ipython",
    "version": 3
   },
   "file_extension": ".py",
   "mimetype": "text/x-python",
   "name": "python",
   "nbconvert_exporter": "python",
   "pygments_lexer": "ipython3",
   "version": "3.8.5"
  }
 },
 "nbformat": 4,
 "nbformat_minor": 5
}
